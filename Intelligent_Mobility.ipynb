{
  "nbformat": 4,
  "nbformat_minor": 0,
  "metadata": {
    "colab": {
      "name": "Intelligent Mobility.ipynb",
      "provenance": [],
      "mount_file_id": "1-q466ZS1UySXkTyri24RqLlqlmUTGYHg",
      "authorship_tag": "ABX9TyMr/y8UHfFVPjBFQaxfABSR",
      "include_colab_link": true
    },
    "kernelspec": {
      "name": "python3",
      "display_name": "Python 3"
    },
    "language_info": {
      "name": "python"
    }
  },
  "cells": [
    {
      "cell_type": "markdown",
      "metadata": {
        "id": "view-in-github",
        "colab_type": "text"
      },
      "source": [
        "<a href=\"https://colab.research.google.com/github/AndyHuang97/Intelligent-Mobility/blob/main/Intelligent_Mobility.ipynb\" target=\"_parent\"><img src=\"https://colab.research.google.com/assets/colab-badge.svg\" alt=\"Open In Colab\"/></a>"
      ]
    },
    {
      "cell_type": "markdown",
      "metadata": {
        "id": "Ew4YAcAmJEwB"
      },
      "source": [
        "# Intelligent Mobility"
      ]
    },
    {
      "cell_type": "code",
      "metadata": {
        "id": "2ecrz2sOJ0mY"
      },
      "source": [
        "import pandas as pd\n",
        "import numpy as np\n",
        "import seaborn as sns\n",
        "import matplotlib\n",
        "\n",
        "import matplotlib.pyplot as plt\n",
        "from scipy import stats\n",
        "from scipy.stats import skew\n",
        "from scipy.stats import norm\n",
        "from scipy.stats.stats import pearsonr\n",
        "%matplotlib inline\n",
        "#import sys\n",
        "#sys.path.append('/content/drive/MyDrive/ColabNotebooks/')"
      ],
      "execution_count": 1,
      "outputs": []
    },
    {
      "cell_type": "markdown",
      "metadata": {
        "id": "kKbCEhzDJ1Fl"
      },
      "source": [
        "## Data preparation"
      ]
    },
    {
      "cell_type": "code",
      "metadata": {
        "id": "KuawKwFBKtLK"
      },
      "source": [
        "ds_path = \"/content/drive/MyDrive/MIDA2/IntelligentMobilityProject/Survey+dataset/EU_travel_survey_demand_innovative_transport_systems.csv\"\n",
        "\n",
        "df = pd.read_csv(ds_path)"
      ],
      "execution_count": 2,
      "outputs": []
    },
    {
      "cell_type": "code",
      "metadata": {
        "colab": {
          "base_uri": "https://localhost:8080/",
          "height": 250
        },
        "id": "wUpF6MH9Nydt",
        "outputId": "3ff3f83b-42c0-4171-e976-2c29a3863699"
      },
      "source": [
        "df.head(2)"
      ],
      "execution_count": 3,
      "outputs": [
        {
          "output_type": "execute_result",
          "data": {
            "text/html": [
              "<div>\n",
              "<style scoped>\n",
              "    .dataframe tbody tr th:only-of-type {\n",
              "        vertical-align: middle;\n",
              "    }\n",
              "\n",
              "    .dataframe tbody tr th {\n",
              "        vertical-align: top;\n",
              "    }\n",
              "\n",
              "    .dataframe thead th {\n",
              "        text-align: right;\n",
              "    }\n",
              "</style>\n",
              "<table border=\"1\" class=\"dataframe\">\n",
              "  <thead>\n",
              "    <tr style=\"text-align: right;\">\n",
              "      <th></th>\n",
              "      <th>ID</th>\n",
              "      <th>Country</th>\n",
              "      <th>Gender</th>\n",
              "      <th>Age</th>\n",
              "      <th>Education</th>\n",
              "      <th>Region</th>\n",
              "      <th>Profession</th>\n",
              "      <th>Work_status</th>\n",
              "      <th>Household_members</th>\n",
              "      <th>Income_level</th>\n",
              "      <th>Location_of_resudence</th>\n",
              "      <th>Centre_or_suburbs</th>\n",
              "      <th>Public_transport_service</th>\n",
              "      <th>Car_driving_license</th>\n",
              "      <th>Number_vehicles_in_household</th>\n",
              "      <th>Considering_electric_or_hybrid_vehicle_next_purchase</th>\n",
              "      <th>Know_what_car_sharing_is</th>\n",
              "      <th>Would_subsribe_car_sharing_if_available</th>\n",
              "      <th>Most_frequent_trip_Walk</th>\n",
              "      <th>Most_frequent_trip_Bicycle</th>\n",
              "      <th>Most_frequent_trip_Car_as_Driver</th>\n",
              "      <th>Most_frequent_trip_Car_as_Passenger</th>\n",
              "      <th>Most_frequent_trip_Train</th>\n",
              "      <th>Most_frequent_trip_Underground_or_light_train</th>\n",
              "      <th>Most_frequent_trip_Tram</th>\n",
              "      <th>Most_frequent_trip_Bus</th>\n",
              "      <th>Most_frequent_trip_Motorcycle_or_moped</th>\n",
              "      <th>Destination_most_frequent_trip</th>\n",
              "      <th>Frequency_most_frequent_trip</th>\n",
              "      <th>Problem_most_frequent_trip_Congestion</th>\n",
              "      <th>Problem_most_frequent_trip_Parking</th>\n",
              "      <th>Problem_most_frequent_trip_Lack_of_bicycle_lanes</th>\n",
              "      <th>Problem_most_frequent_trip_Infrequent_public_transport</th>\n",
              "      <th>Problem_most_frequent_trip_Lack_of_public_transport_coverage</th>\n",
              "      <th>Problem_most_frequent_trip_none</th>\n",
              "      <th>Transfers_between_modes_during_frequent_trip</th>\n",
              "      <th>Frequent_trip_duration_in_minutes</th>\n",
              "      <th>Frequent_trip_distance</th>\n",
              "      <th>Concern_environmental_impacts</th>\n",
              "      <th>Preference_tolls_or_traffic_limitation</th>\n",
              "    </tr>\n",
              "  </thead>\n",
              "  <tbody>\n",
              "    <tr>\n",
              "      <th>0</th>\n",
              "      <td>1</td>\n",
              "      <td>Belgium</td>\n",
              "      <td>Female</td>\n",
              "      <td>49</td>\n",
              "      <td>Upper secondary (high school or similar);</td>\n",
              "      <td>Prov. Oost-Vlaanderen</td>\n",
              "      <td>housewife</td>\n",
              "      <td>Not Employed</td>\n",
              "      <td>two</td>\n",
              "      <td>lower middle</td>\n",
              "      <td>Metropolitan area of a big city with more than...</td>\n",
              "      <td>in the suburbs</td>\n",
              "      <td>Well served by public transport</td>\n",
              "      <td>Yes</td>\n",
              "      <td>1</td>\n",
              "      <td>Maybe yes maybe not</td>\n",
              "      <td>Yes</td>\n",
              "      <td>Maybe yes, maybe not. I would need to test the...</td>\n",
              "      <td>No</td>\n",
              "      <td>No</td>\n",
              "      <td>Yes</td>\n",
              "      <td>No</td>\n",
              "      <td>No</td>\n",
              "      <td>No</td>\n",
              "      <td>No</td>\n",
              "      <td>No</td>\n",
              "      <td>No</td>\n",
              "      <td>…It is outside an urban area</td>\n",
              "      <td>Make this trip every day/ every working day of...</td>\n",
              "      <td>Yes</td>\n",
              "      <td>Yes</td>\n",
              "      <td>No</td>\n",
              "      <td>No</td>\n",
              "      <td>No</td>\n",
              "      <td>No</td>\n",
              "      <td>NaN</td>\n",
              "      <td>20</td>\n",
              "      <td>3-5 KM</td>\n",
              "      <td>5</td>\n",
              "      <td>No preferences</td>\n",
              "    </tr>\n",
              "    <tr>\n",
              "      <th>1</th>\n",
              "      <td>2</td>\n",
              "      <td>France</td>\n",
              "      <td>Male</td>\n",
              "      <td>26</td>\n",
              "      <td>Tertiary and higher (University degree, PhD or...</td>\n",
              "      <td>Pays de la Loire</td>\n",
              "      <td>unemployed</td>\n",
              "      <td>Not Employed</td>\n",
              "      <td>four</td>\n",
              "      <td>low</td>\n",
              "      <td>Small or medium town (less than 250.000 inhabi...</td>\n",
              "      <td>in the centre of the city</td>\n",
              "      <td>Difficult to reach with public transport</td>\n",
              "      <td>Yes</td>\n",
              "      <td>3</td>\n",
              "      <td>Probably not</td>\n",
              "      <td>Yes</td>\n",
              "      <td>Maybe yes, maybe not. I would need to test the...</td>\n",
              "      <td>No</td>\n",
              "      <td>No</td>\n",
              "      <td>Yes</td>\n",
              "      <td>No</td>\n",
              "      <td>No</td>\n",
              "      <td>No</td>\n",
              "      <td>No</td>\n",
              "      <td>No</td>\n",
              "      <td>No</td>\n",
              "      <td>…In an urban area, different from where I live</td>\n",
              "      <td>Make this trip 2-3 days per week</td>\n",
              "      <td>No</td>\n",
              "      <td>Yes</td>\n",
              "      <td>No</td>\n",
              "      <td>Yes</td>\n",
              "      <td>Yes</td>\n",
              "      <td>No</td>\n",
              "      <td>NaN</td>\n",
              "      <td>20</td>\n",
              "      <td>11-20 KM</td>\n",
              "      <td>8</td>\n",
              "      <td>Probably more acceptable to limit road traffic</td>\n",
              "    </tr>\n",
              "  </tbody>\n",
              "</table>\n",
              "</div>"
            ],
            "text/plain": [
              "  ID  ...          Preference_tolls_or_traffic_limitation\n",
              "0  1  ...                                  No preferences\n",
              "1  2  ...  Probably more acceptable to limit road traffic\n",
              "\n",
              "[2 rows x 40 columns]"
            ]
          },
          "metadata": {
            "tags": []
          },
          "execution_count": 3
        }
      ]
    },
    {
      "cell_type": "markdown",
      "metadata": {
        "id": "j1HsQ2fIXGD7"
      },
      "source": [
        "### Missing Values"
      ]
    },
    {
      "cell_type": "code",
      "metadata": {
        "colab": {
          "base_uri": "https://localhost:8080/",
          "height": 328
        },
        "id": "Rydmr-oeXKFn",
        "outputId": "b6e4cbf7-5aa3-44ca-d153-664c3dfefd1f"
      },
      "source": [
        "df_na = (df.isnull().sum() / len(df)) * 100\n",
        "df_na = df_na.drop(df_na[df_na == 0].index).sort_values(ascending=False)[:]\n",
        "missing_data = pd.DataFrame({'Missing Ratio': df_na})\n",
        "missing_data"
      ],
      "execution_count": 4,
      "outputs": [
        {
          "output_type": "execute_result",
          "data": {
            "text/html": [
              "<div>\n",
              "<style scoped>\n",
              "    .dataframe tbody tr th:only-of-type {\n",
              "        vertical-align: middle;\n",
              "    }\n",
              "\n",
              "    .dataframe tbody tr th {\n",
              "        vertical-align: top;\n",
              "    }\n",
              "\n",
              "    .dataframe thead th {\n",
              "        text-align: right;\n",
              "    }\n",
              "</style>\n",
              "<table border=\"1\" class=\"dataframe\">\n",
              "  <thead>\n",
              "    <tr style=\"text-align: right;\">\n",
              "      <th></th>\n",
              "      <th>Missing Ratio</th>\n",
              "    </tr>\n",
              "  </thead>\n",
              "  <tbody>\n",
              "    <tr>\n",
              "      <th>Transfers_between_modes_during_frequent_trip</th>\n",
              "      <td>73.670363</td>\n",
              "    </tr>\n",
              "    <tr>\n",
              "      <th>Problem_most_frequent_trip_none</th>\n",
              "      <td>35.365533</td>\n",
              "    </tr>\n",
              "    <tr>\n",
              "      <th>Problem_most_frequent_trip_Lack_of_public_transport_coverage</th>\n",
              "      <td>35.365533</td>\n",
              "    </tr>\n",
              "    <tr>\n",
              "      <th>Problem_most_frequent_trip_Infrequent_public_transport</th>\n",
              "      <td>35.365533</td>\n",
              "    </tr>\n",
              "    <tr>\n",
              "      <th>Problem_most_frequent_trip_Lack_of_bicycle_lanes</th>\n",
              "      <td>35.365533</td>\n",
              "    </tr>\n",
              "    <tr>\n",
              "      <th>Problem_most_frequent_trip_Parking</th>\n",
              "      <td>35.365533</td>\n",
              "    </tr>\n",
              "    <tr>\n",
              "      <th>Problem_most_frequent_trip_Congestion</th>\n",
              "      <td>35.365533</td>\n",
              "    </tr>\n",
              "    <tr>\n",
              "      <th>Centre_or_suburbs</th>\n",
              "      <td>25.589175</td>\n",
              "    </tr>\n",
              "    <tr>\n",
              "      <th>Region</th>\n",
              "      <td>5.656831</td>\n",
              "    </tr>\n",
              "  </tbody>\n",
              "</table>\n",
              "</div>"
            ],
            "text/plain": [
              "                                                    Missing Ratio\n",
              "Transfers_between_modes_during_frequent_trip            73.670363\n",
              "Problem_most_frequent_trip_none                         35.365533\n",
              "Problem_most_frequent_trip_Lack_of_public_trans...      35.365533\n",
              "Problem_most_frequent_trip_Infrequent_public_tr...      35.365533\n",
              "Problem_most_frequent_trip_Lack_of_bicycle_lanes        35.365533\n",
              "Problem_most_frequent_trip_Parking                      35.365533\n",
              "Problem_most_frequent_trip_Congestion                   35.365533\n",
              "Centre_or_suburbs                                       25.589175\n",
              "Region                                                   5.656831"
            ]
          },
          "metadata": {
            "tags": []
          },
          "execution_count": 4
        }
      ]
    },
    {
      "cell_type": "code",
      "metadata": {
        "colab": {
          "base_uri": "https://localhost:8080/",
          "height": 738
        },
        "id": "Xv_rZThQX4Bs",
        "outputId": "27bb2fc6-0f68-4894-949b-4ba4b03af233"
      },
      "source": [
        "f, ax = plt.subplots(figsize=(8,6))\n",
        "plt.xticks(rotation='90')\n",
        "sns.barplot(x=df_na.index[:10], y=df_na[:10])\n",
        "plt.xlabel('Features', fontsize=15)\n",
        "plt.ylabel('Percent of Missing Values', fontsize=15)\n",
        "plt.title('Top Variables for % of Missing Values', fontsize=15)"
      ],
      "execution_count": 5,
      "outputs": [
        {
          "output_type": "execute_result",
          "data": {
            "text/plain": [
              "Text(0.5, 1.0, 'Top Variables for % of Missing Values')"
            ]
          },
          "metadata": {
            "tags": []
          },
          "execution_count": 5
        },
        {
          "output_type": "display_data",
          "data": {
            "image/png": "[encoded data removed]",
            "text/plain": [
              "<Figure size 576x432 with 1 Axes>"
            ]
          },
          "metadata": {
            "tags": [],
            "needs_background": "light"
          }
        }
      ]
    },
    {
      "cell_type": "markdown",
      "metadata": {
        "id": "sCSs2tcIZIEC"
      },
      "source": [
        "### Impute Categorical Values with Known Meaning\n",
        "Let's impute the missing values for these attributes"
      ]
    },
    {
      "cell_type": "code",
      "metadata": {
        "id": "3hSX9fPtZEN7"
      },
      "source": [
        ""
      ],
      "execution_count": null,
      "outputs": []
    },
    {
      "cell_type": "markdown",
      "metadata": {
        "id": "Yesx_BqEJJry"
      },
      "source": [
        "## Data Exploration and Visualization"
      ]
    },
    {
      "cell_type": "markdown",
      "metadata": {
        "id": "3v6bkd64JMsu"
      },
      "source": [
        "### Data Exploration"
      ]
    },
    {
      "cell_type": "code",
      "metadata": {
        "id": "it3wJjvSJAS9"
      },
      "source": [
        ""
      ],
      "execution_count": null,
      "outputs": []
    },
    {
      "cell_type": "markdown",
      "metadata": {
        "id": "T9Y5BZhJJQcH"
      },
      "source": [
        "### Data Visualization"
      ]
    },
    {
      "cell_type": "code",
      "metadata": {
        "id": "neNcQfXSJVoS"
      },
      "source": [
        ""
      ],
      "execution_count": null,
      "outputs": []
    }
  ]
}